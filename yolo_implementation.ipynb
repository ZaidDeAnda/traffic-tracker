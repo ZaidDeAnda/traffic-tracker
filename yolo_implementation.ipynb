{
 "cells": [
  {
   "cell_type": "code",
   "execution_count": 1,
   "metadata": {},
   "outputs": [],
   "source": [
    "%load_ext autoreload\n",
    "%autoreload 2\n",
    "\n",
    "%matplotlib inline"
   ]
  },
  {
   "cell_type": "code",
   "execution_count": 2,
   "metadata": {},
   "outputs": [],
   "source": [
    "from yolov5.yolov5 import YoloV5"
   ]
  },
  {
   "cell_type": "code",
   "execution_count": 6,
   "metadata": {},
   "outputs": [],
   "source": [
    "from yolov5.utils.image_loader import ImageLoader\n",
    "import cv2\n",
    "\n",
    "img = cv2.imread(\"/home/zaid/github/traffic-tracker/photo-1605559424843-9e4c228bf1c2.jpeg\")\n",
    "im, im0 = ImageLoader.PreprocessImage(img)"
   ]
  },
  {
   "cell_type": "code",
   "execution_count": 7,
   "metadata": {},
   "outputs": [
    {
     "name": "stderr",
     "output_type": "stream",
     "text": [
      "YOLOv5 🚀 v6.1-11-g63ddb6f torch 1.10.2+cu102 CPU\n",
      "\n",
      "Fusing layers... \n",
      "Model Summary: 290 layers, 20869098 parameters, 0 gradients, 48.0 GFLOPs\n",
      "WARNING: --img-size (640, 640) must be multiple of max stride 32, updating to [640, 640]\n"
     ]
    }
   ],
   "source": [
    "preds = YoloV5.get_bounding_boxes(im = im, im0s = im0)"
   ]
  },
  {
   "cell_type": "code",
   "execution_count": 8,
   "metadata": {},
   "outputs": [
    {
     "name": "stdout",
     "output_type": "stream",
     "text": [
      "{0: {'class': 0, 'bounding_box': {'x_start': 668, 'y_start': 699, 'x_end': 719, 'y_end': 726}, 'confidence': 0.27995628118515015}, 1: {'class': 0, 'bounding_box': {'x_start': 898, 'y_start': 869, 'x_end': 1000, 'y_end': 982}, 'confidence': 0.2927258610725403}, 2: {'class': 1, 'bounding_box': {'x_start': 761, 'y_start': 536, 'x_end': 918, 'y_end': 608}, 'confidence': 0.3107360005378723}, 3: {'class': 2, 'bounding_box': {'x_start': 276, 'y_start': 779, 'x_end': 453, 'y_end': 874}, 'confidence': 0.35035955905914307}, 4: {'class': 0, 'bounding_box': {'x_start': 583, 'y_start': 675, 'x_end': 651, 'y_end': 711}, 'confidence': 0.3817906379699707}, 5: {'class': 2, 'bounding_box': {'x_start': 22, 'y_start': 818, 'x_end': 269, 'y_end': 928}, 'confidence': 0.42731884121894836}, 6: {'class': 0, 'bounding_box': {'x_start': 599, 'y_start': 672, 'x_end': 652, 'y_end': 696}, 'confidence': 0.5141097903251648}, 7: {'class': 0, 'bounding_box': {'x_start': 549, 'y_start': 686, 'x_end': 638, 'y_end': 724}, 'confidence': 0.5252617597579956}, 8: {'class': 1, 'bounding_box': {'x_start': 509, 'y_start': 813, 'x_end': 700, 'y_end': 879}, 'confidence': 0.5558664798736572}, 9: {'class': 2, 'bounding_box': {'x_start': 789, 'y_start': 981, 'x_end': 1000, 'y_end': 1192}, 'confidence': 0.564185619354248}, 10: {'class': 1, 'bounding_box': {'x_start': 262, 'y_start': 760, 'x_end': 465, 'y_end': 900}, 'confidence': 0.6063044667243958}, 11: {'class': 2, 'bounding_box': {'x_start': 705, 'y_start': 1039, 'x_end': 1000, 'y_end': 1250}, 'confidence': 0.7100867033004761}, 12: {'class': 2, 'bounding_box': {'x_start': 446, 'y_start': 529, 'x_end': 654, 'y_end': 625}, 'confidence': 0.7224002480506897}}\n"
     ]
    }
   ],
   "source": [
    "print(preds)"
   ]
  },
  {
   "cell_type": "code",
   "execution_count": null,
   "metadata": {},
   "outputs": [],
   "source": []
  }
 ],
 "metadata": {
  "interpreter": {
   "hash": "916dbcbb3f70747c44a77c7bcd40155683ae19c65e1c03b4aa3499c5328201f1"
  },
  "kernelspec": {
   "display_name": "Python 3.8.10 64-bit",
   "language": "python",
   "name": "python3"
  },
  "language_info": {
   "codemirror_mode": {
    "name": "ipython",
    "version": 3
   },
   "file_extension": ".py",
   "mimetype": "text/x-python",
   "name": "python",
   "nbconvert_exporter": "python",
   "pygments_lexer": "ipython3",
   "version": "3.8.10"
  },
  "orig_nbformat": 4
 },
 "nbformat": 4,
 "nbformat_minor": 2
}
